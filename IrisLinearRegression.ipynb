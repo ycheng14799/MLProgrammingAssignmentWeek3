{
 "cells": [
  {
   "cell_type": "code",
   "execution_count": 2,
   "metadata": {},
   "outputs": [],
   "source": [
    "import matplotlib.pyplot as plt\n",
    "import numpy as np\n",
    "from sklearn import datasets \n",
    "from sklearn import neighbors\n",
    "from sklearn.decomposition import PCA\n",
    "from matplotlib.colors import ListedColormap\n",
    "from sklearn.model_selection import train_test_split"
   ]
  },
  {
   "cell_type": "code",
   "execution_count": 6,
   "metadata": {},
   "outputs": [
    {
     "data": {
      "text/plain": [
       "(38, 4)"
      ]
     },
     "execution_count": 6,
     "metadata": {},
     "output_type": "execute_result"
    }
   ],
   "source": [
    "# load iris dataset \n",
    "iris = datasets.load_iris()\n",
    "# Inputs \n",
    "X = iris.data\n",
    "Y = iris.target\n",
    "# Labels: \n",
    "# 0: Setosa \n",
    "# 1: Versicolor\n",
    "# 2: Virginica \n",
    "# Features: \n",
    "# Sepal length, Sepal width, Petal length, Petal width\n",
    "\n",
    "# Split into training and test sets \n",
    "XTrain, XTest, YTrain, YTest = train_test_split(X, Y)"
   ]
  }
 ],
 "metadata": {
  "kernelspec": {
   "display_name": "Python 3",
   "language": "python",
   "name": "python3"
  },
  "language_info": {
   "codemirror_mode": {
    "name": "ipython",
    "version": 3
   },
   "file_extension": ".py",
   "mimetype": "text/x-python",
   "name": "python",
   "nbconvert_exporter": "python",
   "pygments_lexer": "ipython3",
   "version": "3.7.4"
  }
 },
 "nbformat": 4,
 "nbformat_minor": 2
}
