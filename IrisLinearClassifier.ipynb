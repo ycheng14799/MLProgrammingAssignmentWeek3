{
 "cells": [
  {
   "cell_type": "code",
   "execution_count": 120,
   "metadata": {},
   "outputs": [],
   "source": [
    "import matplotlib.pyplot as plt\n",
    "import numpy as np\n",
    "from sklearn import datasets \n",
    "from sklearn.model_selection import train_test_split\n",
    "from sklearn import linear_model\n",
    "from sklearn import preprocessing\n",
    "from sklearn.model_selection import learning_curve \n",
    "from sklearn.model_selection import ShuffleSplit\n",
    "from sklearn.metrics import accuracy_score"
   ]
  },
  {
   "cell_type": "code",
   "execution_count": 121,
   "metadata": {},
   "outputs": [],
   "source": [
    "# load iris dataset \n",
    "iris = datasets.load_iris()\n",
    "# Labels: \n",
    "# 0: Setosa \n",
    "# 1: Versicolor\n",
    "# 2: Virginica \n",
    "# Features: \n",
    "# Sepal length, Sepal width, Petal length, Petal width\n",
    "\n",
    "# Inputs \n",
    "X = iris.data\n",
    "Y = iris.target\n",
    "# Standardized training features \n",
    "standardizedX = preprocessing.scale(X)"
   ]
  },
  {
   "cell_type": "code",
   "execution_count": null,
   "metadata": {},
   "outputs": [],
   "source": [
    "# Plot learning curves \n",
    "# Square-loss linear classifier with gradient descent \n",
    "clf = linear_model.SGDClassifier(\\\n",
    "            loss='squared_loss', penalty='none',\\\n",
    "            max_iter=10000, tol=None, shuffle=True,\\\n",
    "        )\n",
    "\n",
    "# Cross validator \n",
    "cv = ShuffleSplit(\\\n",
    "        n_splits=10, test_size=0.25\\\n",
    "    )\n",
    "\n",
    "# Generate learning curve \n",
    "trainSize, trainScore, testScore = \\\n",
    "    learning_curve(\\\n",
    "        clf, standardizedX, Y,\\\n",
    "        train_sizes=np.linspace(0.1, 1.0, 10),\\\n",
    "        cv=cv\n",
    "    )\n",
    "# Calculate score metrics \n",
    "trainScoreMean = np.mean(trainScore, axis=1)\n",
    "trainScoreStd = np.std(trainScore, axis=1)\n",
    "testScoreMean = np.mean(testScore, axis=1)\n",
    "testScoreStd = np.std(testScore, axis=1)\n",
    "plt.fill_between(trainSize, trainScoreMean - trainScoreStd,\\\n",
    "        trainScoreMean + trainScoreStd, alpha=0.1, color='r'\\\n",
    "    )\n",
    "plt.fill_between(trainSize, testScoreMean - testScoreStd,\\\n",
    "        testScoreMean + testScoreStd, alpha=0.1, color='b'\\\n",
    "    )\n",
    "plt.plot(trainSize, trainScoreMean, 'o-', color='r',\\\n",
    "        label=\"Training Score\")\n",
    "plt.plot(trainSize, testScoreMean, 'o-', color='b',\\\n",
    "        label=\"Cross-Validation Score\")\n",
    "plt.xlabel(\"Training Examples\")\n",
    "plt.ylabel(\"Classification Accuracy\")\n",
    "plt.title(\"Learning Curve (Square Loss)\")\n",
    "plt.legend(loc='lower right')"
   ]
  }
 ],
 "metadata": {
  "kernelspec": {
   "display_name": "Python 3",
   "language": "python",
   "name": "python3"
  },
  "language_info": {
   "codemirror_mode": {
    "name": "ipython",
    "version": 3
   },
   "file_extension": ".py",
   "mimetype": "text/x-python",
   "name": "python",
   "nbconvert_exporter": "python",
   "pygments_lexer": "ipython3",
   "version": "3.7.4"
  }
 },
 "nbformat": 4,
 "nbformat_minor": 2
}
