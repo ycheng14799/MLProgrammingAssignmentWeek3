{
 "cells": [
  {
   "cell_type": "code",
   "execution_count": 47,
   "metadata": {},
   "outputs": [],
   "source": [
    "import matplotlib.pyplot as plt\n",
    "import numpy as np\n",
    "from sklearn import datasets \n",
    "from sklearn import neighbors\n",
    "from sklearn.decomposition import PCA\n",
    "from matplotlib.colors import ListedColormap"
   ]
  },
  {
   "cell_type": "code",
   "execution_count": 48,
   "metadata": {},
   "outputs": [],
   "source": [
    "# load iris dataset \n",
    "iris = datasets.load_iris()\n",
    "# Inputs \n",
    "X = iris.data\n",
    "Y = iris.target\n",
    "# Labels: \n",
    "# 0: Setosa \n",
    "# 1: Versicolor\n",
    "# 2: Virginica \n",
    "# Features: \n",
    "# Sepal length, Sepal width, Petal length, Petal width"
   ]
  },
  {
   "cell_type": "code",
   "execution_count": 65,
   "metadata": {},
   "outputs": [
    {
     "data": {
      "text/plain": [
       "KNeighborsClassifier(algorithm='auto', leaf_size=30, metric='minkowski',\n",
       "                     metric_params=None, n_jobs=None, n_neighbors=2, p=2,\n",
       "                     weights='uniform')"
      ]
     },
     "execution_count": 65,
     "metadata": {},
     "output_type": "execute_result"
    }
   ],
   "source": [
    "# Fit KNN model with first two features\n",
    "numNeighs = 2\n",
    "clf = neighbors.KNeighborsClassifier(numNeighs)\n",
    "clf.fit(X, Y)"
   ]
  },
  {
   "cell_type": "code",
   "execution_count": 45,
   "metadata": {},
   "outputs": [],
   "source": [
    "# Visualize decision boundaries\n",
    "# Project 4D data-points onto 2D with PCA \n",
    "# Fit PCA model with X \n",
    "pca = PCA(n_components=2)\n",
    "pca.fit(X)\n",
    "X2D = pca.transform(X)"
   ]
  },
  {
   "cell_type": "code",
   "execution_count": 46,
   "metadata": {
    "scrolled": false
   },
   "outputs": [
    {
     "data": {
      "text/plain": [
       "<matplotlib.collections.PathCollection at 0x14f4da15708>"
      ]
     },
     "execution_count": 46,
     "metadata": {},
     "output_type": "execute_result"
    },
    {
     "data": {
      "image/png": "[encoded data removed]",
      "text/plain": [
       "<Figure size 432x288 with 1 Axes>"
      ]
     },
     "metadata": {
      "needs_background": "light"
     },
     "output_type": "display_data"
    }
   ],
   "source": [
    "# Define plot range \n",
    "plotXMin, plotXMax, plotYMin, plotYMax =\\\n",
    "    X2D[:,0].min() - 1,\\\n",
    "    X2D[:,0].max() + 1,\\\n",
    "    X2D[:,1].min() - 1,\\\n",
    "    X2D[:,1].max() + 1\n",
    "# Define plot step-size\n",
    "step = 0.01\n",
    "plotXs, plotYs = np.meshgrid(np.arange(plotXMin, plotXMax, step),\\\n",
    "                            np.arange(plotYMin, plotYMax, step))\n",
    "# Transform back to original space \n",
    "# For predictions\n",
    "predictions = clf.predict(pca.inverse_transform(np.c_[plotXs.ravel(), plotYs.ravel()]))\n",
    "predictions = predictions.reshape(plotXs.shape)\n",
    "# Define color maps for plot \n",
    "cmap_light = ListedColormap(['#FFAAAA', '#AAFFAA', '#AAAAFF'])\n",
    "cmap_bold = ListedColormap(['#FF0000', '#00FF00', '#0000FF'])\n",
    "# Plot decision boundaries\n",
    "plt.figure()\n",
    "plt.pcolormesh(plotXs, plotYs, predictions, cmap=cmap_light)\n",
    "# Plot training points \n",
    "plt.scatter(X2D[:,0], X2D[:,1], c=Y, cmap=cmap_bold,\\\n",
    "            edgecolor='k', s=20)"
   ]
  },
  {
   "cell_type": "code",
   "execution_count": null,
   "metadata": {
    "scrolled": true
   },
   "outputs": [],
   "source": [
    "# Decision boundaries of classification \n",
    "# based on sepal/petal characteristics only\n",
    "X2 = X[:,2:4]\n",
    "numNeighs = 25\n",
    "clf = neighbors.KNeighborsClassifier(numNeighs)\n",
    "clf.fit(X2,Y) # Fit KNN model\n",
    "\n",
    "# Define plot range \n",
    "plotXMin, plotXMax, plotYMin, plotYMax =\\\n",
    "    X2[:,0].min() - 1,\\\n",
    "    X2[:,0].max() + 1,\\\n",
    "    X2[:,1].min() - 1,\\\n",
    "    X2[:,1].max() + 1\n",
    "# Define plot step-size\n",
    "step = 0.01\n",
    "plotXs, plotYs = np.meshgrid(np.arange(plotXMin, plotXMax, step),\\\n",
    "                            np.arange(plotYMin, plotYMax, step))\n",
    "# Transform back to original space \n",
    "# For predictions\n",
    "predictions = clf.predict(np.c_[plotXs.ravel(), plotYs.ravel()])\n",
    "predictions = predictions.reshape(plotXs.shape)\n",
    "# Define color maps for plot \n",
    "cmap_light = ListedColormap(['#FFAAAA', '#AAFFAA', '#AAAAFF'])\n",
    "cmap_bold = ListedColormap(['#FF0000', '#00FF00', '#0000FF'])\n",
    "# Plot decision boundaries\n",
    "plt.figure()\n",
    "plt.pcolormesh(plotXs, plotYs, predictions, cmap=cmap_light)\n",
    "# Plot training points \n",
    "plt.scatter(X2[:,0], X2[:,1], c=Y, cmap=cmap_bold,\\\n",
    "            edgecolor='k', s=20)"
   ]
  },
  {
   "cell_type": "code",
   "execution_count": 138,
   "metadata": {},
   "outputs": [],
   "source": [
    "# TODO: Analysis of effect of k on decision boundaries "
   ]
  }
 ],
 "metadata": {
  "kernelspec": {
   "display_name": "Python 3",
   "language": "python",
   "name": "python3"
  },
  "language_info": {
   "codemirror_mode": {
    "name": "ipython",
    "version": 3
   },
   "file_extension": ".py",
   "mimetype": "text/x-python",
   "name": "python",
   "nbconvert_exporter": "python",
   "pygments_lexer": "ipython3",
   "version": "3.7.4"
  }
 },
 "nbformat": 4,
 "nbformat_minor": 2
}
