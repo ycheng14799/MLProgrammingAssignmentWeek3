{
 "cells": [
  {
   "cell_type": "code",
   "execution_count": 144,
   "metadata": {},
   "outputs": [],
   "source": [
    "import numpy as np\n",
    "from sklearn import datasets\n",
    "from sklearn import model_selection\n",
    "from sklearn import preprocessing\n",
    "from sklearn import linear_model\n",
    "import matplotlib.pyplot as plt"
   ]
  },
  {
   "cell_type": "code",
   "execution_count": 165,
   "metadata": {},
   "outputs": [],
   "source": [
    "# Load dataset \n",
    "iris = datasets.load_iris()\n",
    "X = iris.data\n",
    "y = iris.target \n",
    "\n",
    "# Seperate into training and testing data\n",
    "X_train, X_test, y_train, y_test = model_selection.train_test_split(X,y,test_size=0.25)\n",
    "\n",
    "# Standardize Xs\n",
    "scaler = preprocessing.StandardScaler()\n",
    "scaler.fit(X_train)\n",
    "X_train_scaled = scaler.transform(X_train)\n",
    "X_test_scaled = scaler.transform(X_test)"
   ]
  },
  {
   "cell_type": "code",
   "execution_count": 164,
   "metadata": {},
   "outputs": [
    {
     "name": "stdout",
     "output_type": "stream",
     "text": [
      "Training Set Prediction Accuracy: 0.4375\n",
      "Test Set Prediction Accuracy: 0.4473684210526316\n",
      "Training Set Prediction Accuracy: 0.2\n",
      "Training Set Prediction Accuracy: 0.4\n",
      "Training Set Prediction Accuracy: 0.3333333333333333\n",
      "Training Set Prediction Accuracy: 0.375\n",
      "Training Set Prediction Accuracy: 0.44\n",
      "Training Set Prediction Accuracy: 0.6333333333333333\n",
      "Training Set Prediction Accuracy: 0.42857142857142855\n",
      "Training Set Prediction Accuracy: 0.35\n",
      "Training Set Prediction Accuracy: 0.5333333333333333\n",
      "Training Set Prediction Accuracy: 0.58\n",
      "Training Set Prediction Accuracy: 0.23636363636363636\n"
     ]
    },
    {
     "data": {
      "text/plain": [
       "[<matplotlib.lines.Line2D at 0x1d13cb33808>]"
      ]
     },
     "execution_count": 164,
     "metadata": {},
     "output_type": "execute_result"
    },
    {
     "data": {
      "image/png": "[encoded data removed]",
      "text/plain": [
       "<Figure size 432x288 with 1 Axes>"
      ]
     },
     "metadata": {
      "needs_background": "light"
     },
     "output_type": "display_data"
    }
   ],
   "source": [
    "# Baseline: \n",
    "# Linear classifier with stochastic gradient descent traning \n",
    "# Loss: Square loss \n",
    "# Regularization: None \n",
    "# Number of iterations: 10,000\n",
    "clf = linear_model.SGDClassifier(loss=\"squared_loss\", penalty=\"none\", max_iter=10000)\n",
    "clf.fit(X_train_scaled, y_train)\n",
    "print(\"Training Set Prediction Accuracy: \" + str(clf.score(X_train_scaled, y_train)))\n",
    "print(\"Test Set Prediction Accuracy: \" + str(clf.score(X_test_scaled, y_test)))\n",
    "\n",
    "# Plot learning curve of baseline classifier \n",
    "tot_train_examples = X_train_scaled.shape[0]\n",
    "train_scores = []\n",
    "test_scores = []\n",
    "train_sizes = np.arange(10,tot_train_examples,10)\n",
    "for train_size in train_sizes: \n",
    "    X_train_subset = X_train_scaled[:train_size]\n",
    "    y_train_subset = y_train[:train_size]\n",
    "    clf.fit(X_train_subset, y_train_subset)\n",
    "    train_score = str(clf.score(X_train_subset, y_train_subset))\n",
    "    test_score = str(clf.score(X_test_scaled, y_test))\n",
    "    print(\"Training Set Prediction Accuracy: \" + train_score)\n",
    "    print(\"Test Set Prediction Accuracy: \" + test_score)\n",
    "    train_scores.append(train_score)\n",
    "    test_scores.append(test_score)\n",
    "plt.figure()\n",
    "plt.plot(train_sizes, train_scores)"
   ]
  },
  {
   "cell_type": "code",
   "execution_count": null,
   "metadata": {},
   "outputs": [],
   "source": []
  }
 ],
 "metadata": {
  "kernelspec": {
   "display_name": "Python 3",
   "language": "python",
   "name": "python3"
  },
  "language_info": {
   "codemirror_mode": {
    "name": "ipython",
    "version": 3
   },
   "file_extension": ".py",
   "mimetype": "text/x-python",
   "name": "python",
   "nbconvert_exporter": "python",
   "pygments_lexer": "ipython3",
   "version": "3.7.4"
  }
 },
 "nbformat": 4,
 "nbformat_minor": 2
}
