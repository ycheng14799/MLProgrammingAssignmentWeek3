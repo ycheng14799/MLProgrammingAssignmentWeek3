{
 "cells": [
  {
   "cell_type": "code",
   "execution_count": 488,
   "metadata": {},
   "outputs": [],
   "source": [
    "import numpy as np\n",
    "import matplotlib.pyplot as plt\n",
    "from sklearn.linear_model import SGDClassifier\n",
    "from sklearn.neighbors import KNeighborsClassifier"
   ]
  },
  {
   "cell_type": "code",
   "execution_count": 489,
   "metadata": {},
   "outputs": [],
   "source": [
    "# Generating random cluster centers\n",
    "def getCenters(numDims): \n",
    "    centers = []\n",
    "    centers.append(np.random.rand(numDims))\n",
    "    newCenter = np.random.rand(numDims) \n",
    "    newCenter = newCenter / np.linalg.norm(newCenter)\n",
    "    while np.linalg.norm(newCenter-centers[0]) >= 1:\n",
    "        newCenter = np.random.rand(numDims)\n",
    "        newCenter = newCenter / np.linalg.norm(newCenter)\n",
    "    centers.append(newCenter)\n",
    "    newCenter = np.random.rand(numDims)\n",
    "    newCenter = newCenter / np.linalg.norm(newCenter)\n",
    "    while np.linalg.norm(newCenter-centers[0]) >= 1 and np.linalg.norm(newCenter-centers[1]) >= 1:\n",
    "        newCenter = np.random.rand(numDims)\n",
    "        newCenter = newCenter / np.linalg.norm(newCenter)\n",
    "    centers.append(newCenter)\n",
    "    return np.array(centers)\n",
    "\n",
    "# Assign center classes \n",
    "def setCenterClasses(numCenters):\n",
    "    centerClass = np.random.randint(0,2,numCenters)\n",
    "    # Ensure at least one class present \n",
    "    if np.count_nonzero(centerClass) == 0:\n",
    "        centerClass[np.random.randint(0,3)] = 1\n",
    "    if np.count_nonzero(centerClass) == numCenters: \n",
    "        centerClass[np.random.randint(0,3)] = 0\n",
    "    return centerClass"
   ]
  },
  {
   "cell_type": "code",
   "execution_count": 490,
   "metadata": {},
   "outputs": [],
   "source": [
    "# Sample gaussian \n",
    "# Identity covariance \n",
    "def sampleGaussian(center):\n",
    "    return np.random.normal(center, 1)"
   ]
  },
  {
   "cell_type": "code",
   "execution_count": 491,
   "metadata": {},
   "outputs": [],
   "source": [
    "def MoG(numDims, numPoints):\n",
    "    centers = getCenters(numDims)\n",
    "    numCenters = centers.shape[0]\n",
    "    centerClasses = setCenterClasses(numCenters)\n",
    "    X = [] \n",
    "    y = []\n",
    "    for i in range(0, numPoints):\n",
    "        selectCenter = np.random.randint(0,numCenters)\n",
    "        X.append(sampleGaussian(centers[selectCenter]))\n",
    "        y.append(centerClasses[selectCenter])\n",
    "    return np.array(X), np.array(y)"
   ]
  },
  {
   "cell_type": "code",
   "execution_count": 492,
   "metadata": {},
   "outputs": [],
   "source": [
    "def splitData(X, y): \n",
    "    numTrain = int(X.shape[0] * 0.80)\n",
    "    XTrain = X[:numTrain]\n",
    "    yTrain = y[:numTrain]\n",
    "    XTest = X[numTrain:]\n",
    "    yTest = y[numTrain:]\n",
    "    return XTrain, yTrain, XTest, yTest"
   ]
  },
  {
   "cell_type": "code",
   "execution_count": 493,
   "metadata": {},
   "outputs": [
    {
     "data": {
      "image/png": "[encoded data removed]",
      "text/plain": [
       "<Figure size 432x288 with 1 Axes>"
      ]
     },
     "metadata": {
      "needs_background": "light"
     },
     "output_type": "display_data"
    }
   ],
   "source": [
    "X, y = MoG(2,100)\n",
    "colors = ['blue','red']\n",
    "labels = ['-1','+1']\n",
    "posIdx = np.argwhere(y==1)\n",
    "negIdx = np.argwhere(y==0)\n",
    "plt.scatter(X[negIdx,0],X[negIdx,1],\\\n",
    "    c=colors[0],label=labels[0],\\\n",
    "    marker='x')\n",
    "plt.scatter(X[posIdx,0],X[posIdx,1],\\\n",
    "    c=colors[1],label=labels[1],\\\n",
    "    marker='x')\n",
    "plt.legend()\n",
    "plt.xlabel(\"Feature 1\")\n",
    "plt.ylabel(\"Feature 2\")\n",
    "\n",
    "XTrain, yTrain, XTest, yTest = splitData(X,y)"
   ]
  },
  {
   "cell_type": "code",
   "execution_count": null,
   "metadata": {},
   "outputs": [
    {
     "name": "stdout",
     "output_type": "stream",
     "text": [
      "Dimension: 2\n",
      "Linear Accuracy: 0.5666666666666667\n",
      "kN Accurcy: 0.6666666666666666\n",
      "Dimension: 10\n",
      "Linear Accuracy: 0.5333333333333333\n",
      "kN Accurcy: 0.6\n"
     ]
    }
   ],
   "source": [
    "dims = [2,10,100,1000]\n",
    "for dim in dims: \n",
    "    X, y = MoG(dim,150)\n",
    "    XTrain, yTrain, XTest, yTest = splitData(X,y)\n",
    "    linClf = SGDClassifier()\n",
    "    kNClf = KNeighborsClassifier() \n",
    "    numToAvg = 5 \n",
    "    linScoreSum = 0 \n",
    "    kNScoreSum = 0\n",
    "    for i in range(0,numToAvg):\n",
    "        linClf.fit(XTrain, yTrain)\n",
    "        kNClf.fit(XTrain, yTrain)\n",
    "        linScoreSum = linScoreSum + linClf.score(XTest, yTest)\n",
    "        kNScoreSum = kNScoreSum + kNClf.score(XTest, yTest)\n",
    "    linScore = linScoreSum / numToAvg\n",
    "    kNScore = kNScoreSum / numToAvg\n",
    "    print(\"Dimension: \" + str(dim))\n",
    "    print(\"Linear Accuracy: \" + str(linScore))\n",
    "    print(\"kN Accurcy: \" + str(kNScore))"
   ]
  },
  {
   "cell_type": "code",
   "execution_count": null,
   "metadata": {},
   "outputs": [],
   "source": []
  }
 ],
 "metadata": {
  "kernelspec": {
   "display_name": "Python 3",
   "language": "python",
   "name": "python3"
  },
  "language_info": {
   "codemirror_mode": {
    "name": "ipython",
    "version": 3
   },
   "file_extension": ".py",
   "mimetype": "text/x-python",
   "name": "python",
   "nbconvert_exporter": "python",
   "pygments_lexer": "ipython3",
   "version": "3.7.4"
  }
 },
 "nbformat": 4,
 "nbformat_minor": 2
}
