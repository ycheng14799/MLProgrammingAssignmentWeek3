{
 "cells": [
  {
   "cell_type": "code",
   "execution_count": 55,
   "metadata": {},
   "outputs": [],
   "source": [
    "# Generate a dataset from Gaussian Mixture Model"
   ]
  },
  {
   "cell_type": "code",
   "execution_count": 56,
   "metadata": {},
   "outputs": [],
   "source": [
    "import numpy as np\n",
    "from scipy import stats\n",
    "import random"
   ]
  },
  {
   "cell_type": "code",
   "execution_count": 57,
   "metadata": {},
   "outputs": [],
   "source": [
    "# Method for generating a dataset from a gaussian mixture model\n",
    "def genMixtureModelDataset(numPoints, numDims, numClusters):\n",
    "    # Randomly initialize gaussians (define by mean)\n",
    "    clusterCenters = np.random.rand(numClusters, numDims)\n",
    "    # Generate data-points \n",
    "    # randomly and uniformly sample points from the gaussians defined by the cluster centers\n",
    "    data = np.array([stats.multivariate_normal.rvs(clusterCenters[np.random.randint(0, numClusters)]) for i in range(0,numPoints)])\n",
    "    targets = np.array([[-1 if random.random() < 0.5 else 1] for i in range(0, numPoints)])\n",
    "    return data, targets"
   ]
  },
  {
   "cell_type": "code",
   "execution_count": 58,
   "metadata": {},
   "outputs": [],
   "source": [
    "X, y = genMixtureModelDataset(10, 2, 3) # Generate dataset \n",
    "# Parameters: number of points, number of dimensions, number of mixture components"
   ]
  },
  {
   "cell_type": "code",
   "execution_count": null,
   "metadata": {},
   "outputs": [],
   "source": [
    "# TODO: Learn K-NN Model, "
   ]
  }
 ],
 "metadata": {
  "kernelspec": {
   "display_name": "Python 3",
   "language": "python",
   "name": "python3"
  },
  "language_info": {
   "codemirror_mode": {
    "name": "ipython",
    "version": 3
   },
   "file_extension": ".py",
   "mimetype": "text/x-python",
   "name": "python",
   "nbconvert_exporter": "python",
   "pygments_lexer": "ipython3",
   "version": "3.7.4"
  }
 },
 "nbformat": 4,
 "nbformat_minor": 2
}
