{
 "cells": [
  {
   "cell_type": "code",
   "execution_count": 4,
   "metadata": {},
   "outputs": [],
   "source": [
    "# Generate a dataset from Gaussian Mixture Model"
   ]
  },
  {
   "cell_type": "code",
   "execution_count": 5,
   "metadata": {},
   "outputs": [],
   "source": [
    "import numpy as np\n",
    "from scipy import stats\n",
    "import random\n",
    "import matplotlib.pyplot as plt\n",
    "from matplotlib.colors import ListedColormap\n",
    "from sklearn import neighbors\n",
    "from sklearn.model_selection import validation_curve\n",
    "from sklearn.model_selection import learning_curve\n",
    "from sklearn.model_selection import ShuffleSplit\n",
    "from sklearn.linear_model import SGDClassifier\n",
    "import time "
   ]
  },
  {
   "cell_type": "code",
   "execution_count": 6,
   "metadata": {},
   "outputs": [],
   "source": [
    "def genClusterCenters(numDims): \n",
    "    clusterCenters = []\n",
    "    clusterCenters.append(np.random.rand(numDims))\n",
    "    newCenter = np.random.rand(numDims)\n",
    "    newCenter = newCenter / np.linalg.norm(newCenter)\n",
    "    while np.linalg.norm(newCenter - clusterCenters[0]) >= 1:\n",
    "        newCenter = np.random.rand(numDims)\n",
    "        newCenter = newCenter / np.linalg.norm(newCenter)\n",
    "    clusterCenters.append(newCenter)\n",
    "    newCenter = np.random.rand(numDims)\n",
    "    while np.linalg.norm(newCenter - clusterCenters[0]) >= 1 and np.linalg.norm(newCenter - clusterCenters[1]) >= 1:\n",
    "        newCenter = np.random.rand(numDims)\n",
    "        newCenter = newCenter / np.linalg.norm(newCenter)\n",
    "    clusterCenters.append(newCenter)\n",
    "    return np.array(clusterCenters)"
   ]
  },
  {
   "cell_type": "code",
   "execution_count": 7,
   "metadata": {},
   "outputs": [],
   "source": [
    "# Method for generating a dataset from a gaussian mixture model\n",
    "def genMixtureModelDataset(numPoints, numDims, numClusters):\n",
    "    # Randomly initialize gaussians (define by mean)\n",
    "    # clusterCenters = np.random.rand(numClusters, numDims)\n",
    "    clusterCenters = genClusterCenters(numDims)\n",
    "    clusterTargets = np.array([[-1 if random.random() < 0.5 else 1] for i in range(0, numClusters)])\n",
    "    # Ensure at least one of each class in cluster targets \n",
    "    if(not np.isin(-1, clusterTargets)):\n",
    "        clusterTargets[np.random.randint(0,numClusters)] = -1\n",
    "    if(not np.isin(1, clusterTargets)):\n",
    "        clusterTargets[np.random.randint(0,numClusters)] = 1\n",
    "    # Generate data-points \n",
    "    # randomly and uniformly sample points from the gaussians defined by the cluster centers\n",
    "    data = []\n",
    "    targets = []\n",
    "    # Define covariance matrix \n",
    "    cov = np.identity(numDims)\n",
    "    for i in range(0, numPoints):\n",
    "        clusterSelection = np.random.randint(0, numClusters)\n",
    "        sample = stats.multivariate_normal.rvs(mean=clusterCenters[clusterSelection],cov=cov)\n",
    "        data.append(sample)\n",
    "        targets.append(clusterTargets[clusterSelection])\n",
    "    data = np.array(data)\n",
    "    targets = np.array(targets)\n",
    "    return data, targets.ravel(), clusterCenters"
   ]
  },
  {
   "cell_type": "code",
   "execution_count": 8,
   "metadata": {},
   "outputs": [
    {
     "data": {
      "text/plain": [
       "Text(0, 0.5, 'Feature 2')"
      ]
     },
     "execution_count": 8,
     "metadata": {},
     "output_type": "execute_result"
    },
    {
     "data": {
      "image/png": "[encoded data removed]",
      "text/plain": [
       "<Figure size 432x288 with 1 Axes>"
      ]
     },
     "metadata": {
      "needs_background": "light"
     },
     "output_type": "display_data"
    }
   ],
   "source": [
    "# Visualize 2D sampling of the mixture model\n",
    "X, y, centers = genMixtureModelDataset(100, 2, 3)\n",
    "cmap_bold = ListedColormap(['#FF1111', '#1111FF'])\n",
    "plt.figure()\n",
    "plt.scatter(X[:,0],X[:,1],c=np.clip(y,0,1).ravel(), cmap=cmap_bold, marker='x')\n",
    "plt.plot(centers[:,0], centers[:,1], 'o', color='black')\n",
    "plt.xlabel(\"Feature 1\")\n",
    "plt.ylabel(\"Feature 2\")\n"
   ]
  },
  {
   "cell_type": "code",
   "execution_count": 9,
   "metadata": {},
   "outputs": [],
   "source": [
    "# Validation curve graphing\n",
    "def generateGraph(variable, trainScoresMean, testScoresMean,\\\n",
    "    trainScoresStd, testScoresStd,\\\n",
    "    xLabel, yLabel, title, log=False):\n",
    "    plt.figure()\n",
    "    if log is False:\n",
    "        plt.plot(variable, trainScoresMean, \"-o\", color=\"blue\",\\\n",
    "            label=\"Training Accuracy\")\n",
    "        plt.plot(variable, testScoresMean, \"-o\", color=\"red\",\\\n",
    "            label=\"Cross-Validation Accuracy\")\n",
    "    else: \n",
    "        plt.semilogx(variable, trainScoresMean, \"-o\",\\\n",
    "            color=\"blue\", label=\"Training Accuracy\")\n",
    "        plt.semilogx(variable, testScoresMean, \"-o\",\\\n",
    "            color=\"red\", label=\"Cross-Validation Accuracy\")\n",
    "    plt.fill_between(variable, trainScoresMean-trainScoresStd,\\\n",
    "        trainScoresMean+trainScoresStd, alpha=0.1, color=\"blue\")\n",
    "    plt.fill_between(variable, testScoresMean-testScoresStd,\\\n",
    "        testScoresMean+testScoresStd, alpha=0.1, color=\"red\")\n",
    "    plt.xlabel(xLabel)\n",
    "    plt.ylabel(yLabel)\n",
    "    plt.ylim((0.0,1.0))\n",
    "    plt.title(title)\n",
    "    plt.legend(loc=\"lower right\")"
   ]
  },
  {
   "cell_type": "code",
   "execution_count": 10,
   "metadata": {},
   "outputs": [],
   "source": [
    "# K-NN, Evaluate effect of K on classification accuracy\n",
    "def evaluateKNN(D, clusterNum, X, y, centers):\n",
    "    # Evaluate effect of k on classification accuracy \n",
    "    NNBasic = neighbors.KNeighborsClassifier()\n",
    "    # Ks to evaluate\n",
    "    Ks = np.arange(1,100,5,dtype=int)\n",
    "    # Random permutation cross-validator\n",
    "    cv = ShuffleSplit(n_splits=10, test_size=0.20)\n",
    "    # Generate validation curve\n",
    "    trainScores, testScores = validation_curve(NNBasic, X, y, 'n_neighbors', Ks,\\\n",
    "        cv=cv, scoring=\"accuracy\")\n",
    "    # Calculate mean and std \n",
    "    trainScoresMean = np.mean(trainScores, axis=1)\n",
    "    testScoresMean = np.mean(testScores, axis=1)\n",
    "    trainScoresStd = np.std(trainScores, axis=1)\n",
    "    testScoresStd = np.std(testScores, axis=1)\n",
    "    # Graph\n",
    "    generateGraph(Ks, trainScoresMean, testScoresMean,\\\n",
    "        trainScoresStd, testScoresStd, \"K\", \"Classification Accuracy\",\\\n",
    "        \"Validation Curve for K\\n(KNN on Mixture Model, \" + str(D) + \"D, \" + str(clusterNum) + \" clusters)\", log=False)\n",
    "    '''\n",
    "    # Time fitting \n",
    "    start = time.time() \n",
    "    NNBasic.fit(X,y)\n",
    "    elapsed = time.time() - start \n",
    "    print(\"Fitting time for D = \" + str(D) + \": \" + str(elapsed))\n",
    "    start = time.time()\n",
    "    NNBasic.predict([X[0]])\n",
    "    elapsed = time.time() - start \n",
    "    print(\"Prediction time for D = \" + str(D) + \": \" + str(elapsed))\n",
    "    '''"
   ]
  },
  {
   "cell_type": "code",
   "execution_count": 11,
   "metadata": {},
   "outputs": [],
   "source": [
    "# Linear Classifier on various dimensions of X \n",
    "def evaluateLinearClass(D, clusterNum, X, y, centers):\n",
    "    # A Basic Linear Classifier \n",
    "    estimator = SGDClassifier(loss=\"squared_loss\", penalty=\"none\",\\\n",
    "        max_iter=10000, shuffle=True, tol=None, learning_rate=\"constant\",\\\n",
    "        eta0=0.01)\n",
    "    # Random permutation cross-validator\n",
    "    cv = ShuffleSplit(n_splits=10, test_size=0.20)\n",
    "    # Learning curve \n",
    "    trainSizes, trainScores, testScores = learning_curve(\\\n",
    "        estimator, X, y, train_sizes=np.linspace(0.1,1.0,5),\\\n",
    "        cv=cv, scoring=\"accuracy\")\n",
    "\n",
    "    trainScoresMean = np.mean(trainScores, axis=1)\n",
    "    testScoresMean = np.mean(testScores, axis=1)\n",
    "    trainScoresStd = np.std(trainScores, axis=1)\n",
    "    testScoresStd = np.std(testScores, axis=1)\n",
    "\n",
    "    generateGraph(trainSizes, trainScoresMean, testScoresMean,\\\n",
    "        trainScoresStd, testScoresStd,\\\n",
    "        \"Training Examples\", \"Classification Accuracy\",\\\n",
    "        \"Learning Curve (Linear Classifier, \" + str(D) + \"D, \" + str(clusterNum) + \" clusters)\")\n",
    "    '''\n",
    "    # Time fitting \n",
    "    start = time.time() \n",
    "    estimator.fit(X,y)\n",
    "    elapsed = time.time() - start \n",
    "    print(\"Fitting time for D = \" + str(D) + \": \" + str(elapsed))\n",
    "    start = time.time()\n",
    "    estimator.predict([X[0]])\n",
    "    elapsed = time.time() - start \n",
    "    print(\"Prediction time for D = \" + str(D) + \": \" + str(elapsed))\n",
    "    '''"
   ]
  },
  {
   "cell_type": "code",
   "execution_count": null,
   "metadata": {
    "scrolled": false
   },
   "outputs": [],
   "source": [
    "'''\n",
    "clusters = [10,30]\n",
    "Ds = [2, 10, 100, 1000]\n",
    "for cluster in clusters:\n",
    "    for D in Ds:\n",
    "        evaluateLinearClass(D, cluster)\n",
    "'''\n",
    "Ds = [2, 10, 100, 1000]\n",
    "for D in Ds: \n",
    "    X, y, centers = genMixtureModelDataset(150, D, 3)\n",
    "    evaluateKNN(D, 3, X, y, centers)\n",
    "    evaluateLinearClass(D, 3, X, y, centers)"
   ]
  },
  {
   "cell_type": "code",
   "execution_count": null,
   "metadata": {},
   "outputs": [],
   "source": [
    "X, y, centers = genMixtureModelDataset(150, 2, 3)\n",
    "plt.figure()\n",
    "plt.plot(X[:,0], X[:,1], 'x', color=)"
   ]
  },
  {
   "cell_type": "code",
   "execution_count": null,
   "metadata": {},
   "outputs": [],
   "source": []
  }
 ],
 "metadata": {
  "kernelspec": {
   "display_name": "Python 3",
   "language": "python",
   "name": "python3"
  },
  "language_info": {
   "codemirror_mode": {
    "name": "ipython",
    "version": 3
   },
   "file_extension": ".py",
   "mimetype": "text/x-python",
   "name": "python",
   "nbconvert_exporter": "python",
   "pygments_lexer": "ipython3",
   "version": "3.7.4"
  }
 },
 "nbformat": 4,
 "nbformat_minor": 2
}
